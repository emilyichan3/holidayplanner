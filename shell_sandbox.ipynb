{
 "cells": [
  {
   "cell_type": "markdown",
   "metadata": {},
   "source": [
    "This notebook reproduces via a notebook the same interactions as the walkthrough has you perform via manage.py shell\n",
    "To allow this, we need to set up the `dj_notebook` package"
   ]
  },
  {
   "cell_type": "code",
   "execution_count": 1,
   "metadata": {},
   "outputs": [
    {
     "data": {
      "application/vnd.jupyter.widget-view+json": {
       "model_id": "f6994fbd98ff495d8919635b1958611a",
       "version_major": 2,
       "version_minor": 0
      },
      "text/plain": [
       "Output()"
      ]
     },
     "metadata": {},
     "output_type": "display_data"
    },
    {
     "data": {
      "text/html": [
       "<pre style=\"white-space:pre;overflow-x:auto;line-height:normal;font-family:Menlo,'DejaVu Sans Mono',consolas,'Courier New',monospace\"></pre>\n"
      ],
      "text/plain": []
     },
     "metadata": {},
     "output_type": "display_data"
    }
   ],
   "source": [
    "from dj_notebook import activate\n",
    "\n",
    "plus = activate()"
   ]
  },
  {
   "cell_type": "code",
   "execution_count": 2,
   "metadata": {},
   "outputs": [],
   "source": [
    "# Now that we set up the environment, we can import the models\n",
    "from django.contrib.auth import get_user_model\n",
    "from blog.models import Post\n",
    "\n",
    "User = get_user_model()"
   ]
  },
  {
   "cell_type": "code",
   "execution_count": 3,
   "metadata": {},
   "outputs": [
    {
     "name": "stdout",
     "output_type": "stream",
     "text": [
      "All users:\n"
     ]
    },
    {
     "data": {
      "text/plain": [
       "<QuerySet [<User: admin>]>"
      ]
     },
     "execution_count": 3,
     "metadata": {},
     "output_type": "execute_result"
    }
   ],
   "source": [
    "# Display all users\n",
    "print(\"All users:\")\n",
    "User.objects.all()"
   ]
  },
  {
   "cell_type": "code",
   "execution_count": 4,
   "metadata": {},
   "outputs": [
    {
     "name": "stdout",
     "output_type": "stream",
     "text": [
      "\n",
      "First user: admin\n"
     ]
    }
   ],
   "source": [
    "first_user = User.objects.first()\n",
    "print(\"\\nFirst user:\", first_user)"
   ]
  },
  {
   "cell_type": "code",
   "execution_count": 5,
   "metadata": {},
   "outputs": [
    {
     "name": "stdout",
     "output_type": "stream",
     "text": [
      "\n",
      "Filtered user: admin\n"
     ]
    }
   ],
   "source": [
    "# Filter users\n",
    "admin = User.objects.filter(username='admin').first()\n",
    "print(\"\\nFiltered user:\", admin)"
   ]
  },
  {
   "cell_type": "code",
   "execution_count": 6,
   "metadata": {},
   "outputs": [
    {
     "name": "stdout",
     "output_type": "stream",
     "text": [
      "\n",
      "User with pk=1: admin\n"
     ]
    }
   ],
   "source": [
    "# Get user by primary key\n",
    "user = User.objects.get(pk=1)\n",
    "print(\"\\nUser with pk=1:\", user)"
   ]
  },
  {
   "cell_type": "code",
   "execution_count": 7,
   "metadata": {},
   "outputs": [
    {
     "name": "stdout",
     "output_type": "stream",
     "text": [
      "\n",
      "All posts (initially):\n",
      "<QuerySet [<Post: Blog one>, <Post: Blog two>, <Post: Blog three>, <Post: Blog four>]>\n"
     ]
    }
   ],
   "source": [
    "# Display all posts (initially empty)\n",
    "print(\"\\nAll posts (initially):\")\n",
    "print(Post.objects.all())"
   ]
  },
  {
   "cell_type": "code",
   "execution_count": 9,
   "metadata": {},
   "outputs": [],
   "source": [
    "# Create a post\n",
    "post_test_1 = Post(title='Blog 1', content='This is my first post by notebook', creator=user)\n",
    "post_test_1.save()"
   ]
  },
  {
   "cell_type": "code",
   "execution_count": 10,
   "metadata": {},
   "outputs": [
    {
     "name": "stdout",
     "output_type": "stream",
     "text": [
      "\n",
      "All posts after creating one:\n",
      "<QuerySet [<Post: Blog one>, <Post: Blog two>, <Post: Blog three>, <Post: Blog four>, <Post: Blog 1>]>\n"
     ]
    }
   ],
   "source": [
    "# Display all posts after creating one\n",
    "print(\"\\nAll posts after creating one:\")\n",
    "print(Post.objects.all())"
   ]
  },
  {
   "cell_type": "code",
   "execution_count": 11,
   "metadata": {},
   "outputs": [],
   "source": [
    "# Create another post\n",
    "post_test_2 = Post(title='Blog 2', content='This is my second post by notebook', creator=user)\n",
    "post_test_2.save()"
   ]
  },
  {
   "cell_type": "code",
   "execution_count": 12,
   "metadata": {},
   "outputs": [
    {
     "name": "stdout",
     "output_type": "stream",
     "text": [
      "\n",
      "All posts after creating two:\n",
      "<QuerySet [<Post: Blog one>, <Post: Blog two>, <Post: Blog three>, <Post: Blog four>, <Post: Blog 1>, <Post: Blog 2>]>\n"
     ]
    }
   ],
   "source": [
    "# Display all posts after creating two\n",
    "print(\"\\nAll posts after creating two:\")\n",
    "print(Post.objects.all())"
   ]
  },
  {
   "cell_type": "code",
   "execution_count": 14,
   "metadata": {},
   "outputs": [
    {
     "name": "stdout",
     "output_type": "stream",
     "text": [
      "\n",
      "First post:\n",
      "Title: Blog one\n",
      "Content: This is test blog\n",
      "Creator: admin\n",
      "Date Posted: 2025-01-12 12:16:11.856038+00:00\n",
      "\n",
      "Post author email: emilyichan3@gmail.com\n"
     ]
    }
   ],
   "source": [
    "# Fetch the first post\n",
    "post = Post.objects.first()\n",
    "print(\"\\nFirst post:\")\n",
    "print(\"Title:\", post.title)\n",
    "print(\"Content:\", post.content)\n",
    "print(\"Creator:\", post.creator)\n",
    "print(\"Date Posted:\", post.create_at)\n",
    "\n",
    "# Access related user information (traverse model via foreign key)\n",
    "print(\"\\nPost author email:\", post.creator.email)"
   ]
  },
  {
   "cell_type": "code",
   "execution_count": 16,
   "metadata": {},
   "outputs": [
    {
     "name": "stdout",
     "output_type": "stream",
     "text": [
      "\n",
      "All posts by user:\n",
      "<QuerySet [<Post: Blog one>, <Post: Blog two>, <Post: Blog three>, <Post: Blog four>, <Post: Blog 1>, <Post: Blog 2>]>\n"
     ]
    }
   ],
   "source": [
    "# Get all posts by a specific user\n",
    "user_posts = user.posts.all()\n",
    "print(\"\\nAll posts by user:\")\n",
    "print(user_posts)"
   ]
  },
  {
   "cell_type": "code",
   "execution_count": 17,
   "metadata": {},
   "outputs": [
    {
     "name": "stdout",
     "output_type": "stream",
     "text": [
      "\n",
      "Newly created post:\n",
      "Blog 3\n"
     ]
    }
   ],
   "source": [
    "# Create a new post using post_set\n",
    "new_post = user.posts.create(title='Blog 3', content='Third Post Content by notebook')\n",
    "print(\"\\nNewly created post:\")\n",
    "print(new_post)"
   ]
  },
  {
   "cell_type": "code",
   "execution_count": 18,
   "metadata": {},
   "outputs": [
    {
     "name": "stdout",
     "output_type": "stream",
     "text": [
      "\n",
      "All posts after creating three:\n",
      "<QuerySet [<Post: Blog one>, <Post: Blog two>, <Post: Blog three>, <Post: Blog four>, <Post: Blog 1>, <Post: Blog 2>, <Post: Blog 3>]>\n"
     ]
    }
   ],
   "source": [
    "# Display all posts after creating three\n",
    "print(\"\\nAll posts after creating three:\")\n",
    "print(Post.objects.all())"
   ]
  },
  {
   "cell_type": "code",
   "execution_count": null,
   "metadata": {},
   "outputs": [],
   "source": [
    "# reset password in bash template\n",
    "\n",
    "set -a ; source .env ; set +a\n",
    "\n",
    "echo $EMAIL_HOST_USER"
   ]
  },
  {
   "cell_type": "markdown",
   "metadata": {},
   "source": [
    "### Activity 0b - Activate the virtual environment\n",
    "If on Git bash/macOS/Linux:\n",
    "```bash\n",
    "source your_env_name/bin/activate\n",
    "```\n",
    "If on Windows Command Prompt (cmd):\n",
    "```bat\n",
    "your_env_name\\Scripts\\activate.bat\n",
    "```\n",
    "\n",
    "Note: Depending on your OS and how you installed Python, you'll have the `activate` in either `bin` or `Scripts`"
   ]
  },
  {
   "cell_type": "markdown",
   "metadata": {},
   "source": [
    "in bash\n",
    "\n",
    "touch xxxxx.py => create a file"
   ]
  }
 ],
 "metadata": {
  "kernelspec": {
   "display_name": "django_env",
   "language": "python",
   "name": "python3"
  },
  "language_info": {
   "codemirror_mode": {
    "name": "ipython",
    "version": 3
   },
   "file_extension": ".py",
   "mimetype": "text/x-python",
   "name": "python",
   "nbconvert_exporter": "python",
   "pygments_lexer": "ipython3",
   "version": "3.13.1"
  }
 },
 "nbformat": 4,
 "nbformat_minor": 2
}
